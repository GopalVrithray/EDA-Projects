{
 "cells": [
  {
   "cell_type": "markdown",
   "id": "648e2593",
   "metadata": {},
   "source": [
    "# Data Cleaning and Pre-processing"
   ]
  },
  {
   "cell_type": "code",
   "execution_count": 1,
   "id": "3c4eec47",
   "metadata": {},
   "outputs": [],
   "source": [
    "import numpy as np\n",
    "import pandas as pd\n",
    "import matplotlib.pyplot as plt\n",
    "import seaborn as sns\n",
    "%matplotlib inline"
   ]
  },
  {
   "cell_type": "markdown",
   "id": "16d2a303",
   "metadata": {},
   "source": [
    "## Importing Data from CSV file"
   ]
  },
  {
   "cell_type": "code",
   "execution_count": 2,
   "id": "884e6a0b",
   "metadata": {},
   "outputs": [
    {
     "data": {
      "text/html": [
       "<div>\n",
       "<style scoped>\n",
       "    .dataframe tbody tr th:only-of-type {\n",
       "        vertical-align: middle;\n",
       "    }\n",
       "\n",
       "    .dataframe tbody tr th {\n",
       "        vertical-align: top;\n",
       "    }\n",
       "\n",
       "    .dataframe thead th {\n",
       "        text-align: right;\n",
       "    }\n",
       "</style>\n",
       "<table border=\"1\" class=\"dataframe\">\n",
       "  <thead>\n",
       "    <tr style=\"text-align: right;\">\n",
       "      <th></th>\n",
       "      <th>Passengerid</th>\n",
       "      <th>Age</th>\n",
       "      <th>Fare</th>\n",
       "      <th>Sex</th>\n",
       "      <th>sibsp</th>\n",
       "      <th>zero</th>\n",
       "      <th>zero.1</th>\n",
       "      <th>zero.2</th>\n",
       "      <th>zero.3</th>\n",
       "      <th>zero.4</th>\n",
       "      <th>...</th>\n",
       "      <th>zero.12</th>\n",
       "      <th>zero.13</th>\n",
       "      <th>zero.14</th>\n",
       "      <th>Pclass</th>\n",
       "      <th>zero.15</th>\n",
       "      <th>zero.16</th>\n",
       "      <th>Embarked</th>\n",
       "      <th>zero.17</th>\n",
       "      <th>zero.18</th>\n",
       "      <th>2urvived</th>\n",
       "    </tr>\n",
       "  </thead>\n",
       "  <tbody>\n",
       "    <tr>\n",
       "      <th>0</th>\n",
       "      <td>1</td>\n",
       "      <td>22.0</td>\n",
       "      <td>7.2500</td>\n",
       "      <td>0</td>\n",
       "      <td>1</td>\n",
       "      <td>0</td>\n",
       "      <td>0</td>\n",
       "      <td>0</td>\n",
       "      <td>0</td>\n",
       "      <td>0</td>\n",
       "      <td>...</td>\n",
       "      <td>0</td>\n",
       "      <td>0</td>\n",
       "      <td>0</td>\n",
       "      <td>3</td>\n",
       "      <td>0</td>\n",
       "      <td>0</td>\n",
       "      <td>2.0</td>\n",
       "      <td>0</td>\n",
       "      <td>0</td>\n",
       "      <td>0</td>\n",
       "    </tr>\n",
       "    <tr>\n",
       "      <th>1</th>\n",
       "      <td>2</td>\n",
       "      <td>38.0</td>\n",
       "      <td>71.2833</td>\n",
       "      <td>1</td>\n",
       "      <td>1</td>\n",
       "      <td>0</td>\n",
       "      <td>0</td>\n",
       "      <td>0</td>\n",
       "      <td>0</td>\n",
       "      <td>0</td>\n",
       "      <td>...</td>\n",
       "      <td>0</td>\n",
       "      <td>0</td>\n",
       "      <td>0</td>\n",
       "      <td>1</td>\n",
       "      <td>0</td>\n",
       "      <td>0</td>\n",
       "      <td>0.0</td>\n",
       "      <td>0</td>\n",
       "      <td>0</td>\n",
       "      <td>1</td>\n",
       "    </tr>\n",
       "    <tr>\n",
       "      <th>2</th>\n",
       "      <td>3</td>\n",
       "      <td>26.0</td>\n",
       "      <td>7.9250</td>\n",
       "      <td>1</td>\n",
       "      <td>0</td>\n",
       "      <td>0</td>\n",
       "      <td>0</td>\n",
       "      <td>0</td>\n",
       "      <td>0</td>\n",
       "      <td>0</td>\n",
       "      <td>...</td>\n",
       "      <td>0</td>\n",
       "      <td>0</td>\n",
       "      <td>0</td>\n",
       "      <td>3</td>\n",
       "      <td>0</td>\n",
       "      <td>0</td>\n",
       "      <td>2.0</td>\n",
       "      <td>0</td>\n",
       "      <td>0</td>\n",
       "      <td>1</td>\n",
       "    </tr>\n",
       "    <tr>\n",
       "      <th>3</th>\n",
       "      <td>4</td>\n",
       "      <td>35.0</td>\n",
       "      <td>53.1000</td>\n",
       "      <td>1</td>\n",
       "      <td>1</td>\n",
       "      <td>0</td>\n",
       "      <td>0</td>\n",
       "      <td>0</td>\n",
       "      <td>0</td>\n",
       "      <td>0</td>\n",
       "      <td>...</td>\n",
       "      <td>0</td>\n",
       "      <td>0</td>\n",
       "      <td>0</td>\n",
       "      <td>1</td>\n",
       "      <td>0</td>\n",
       "      <td>0</td>\n",
       "      <td>2.0</td>\n",
       "      <td>0</td>\n",
       "      <td>0</td>\n",
       "      <td>1</td>\n",
       "    </tr>\n",
       "    <tr>\n",
       "      <th>4</th>\n",
       "      <td>5</td>\n",
       "      <td>35.0</td>\n",
       "      <td>8.0500</td>\n",
       "      <td>0</td>\n",
       "      <td>0</td>\n",
       "      <td>0</td>\n",
       "      <td>0</td>\n",
       "      <td>0</td>\n",
       "      <td>0</td>\n",
       "      <td>0</td>\n",
       "      <td>...</td>\n",
       "      <td>0</td>\n",
       "      <td>0</td>\n",
       "      <td>0</td>\n",
       "      <td>3</td>\n",
       "      <td>0</td>\n",
       "      <td>0</td>\n",
       "      <td>2.0</td>\n",
       "      <td>0</td>\n",
       "      <td>0</td>\n",
       "      <td>0</td>\n",
       "    </tr>\n",
       "  </tbody>\n",
       "</table>\n",
       "<p>5 rows × 28 columns</p>\n",
       "</div>"
      ],
      "text/plain": [
       "   Passengerid   Age     Fare  Sex  sibsp  zero  zero.1  zero.2  zero.3  \\\n",
       "0            1  22.0   7.2500    0      1     0       0       0       0   \n",
       "1            2  38.0  71.2833    1      1     0       0       0       0   \n",
       "2            3  26.0   7.9250    1      0     0       0       0       0   \n",
       "3            4  35.0  53.1000    1      1     0       0       0       0   \n",
       "4            5  35.0   8.0500    0      0     0       0       0       0   \n",
       "\n",
       "   zero.4  ...  zero.12  zero.13  zero.14  Pclass  zero.15  zero.16  Embarked  \\\n",
       "0       0  ...        0        0        0       3        0        0       2.0   \n",
       "1       0  ...        0        0        0       1        0        0       0.0   \n",
       "2       0  ...        0        0        0       3        0        0       2.0   \n",
       "3       0  ...        0        0        0       1        0        0       2.0   \n",
       "4       0  ...        0        0        0       3        0        0       2.0   \n",
       "\n",
       "   zero.17  zero.18  2urvived  \n",
       "0        0        0         0  \n",
       "1        0        0         1  \n",
       "2        0        0         1  \n",
       "3        0        0         1  \n",
       "4        0        0         0  \n",
       "\n",
       "[5 rows x 28 columns]"
      ]
     },
     "execution_count": 2,
     "metadata": {},
     "output_type": "execute_result"
    }
   ],
   "source": [
    "df=pd.read_csv('C:\\\\Users\\\\gopal\\\\OneDrive\\\\Desktop\\\\Test Jupyter\\\\train_and_test2.csv')\n",
    "df.head()"
   ]
  },
  {
   "cell_type": "markdown",
   "id": "8dc7b490",
   "metadata": {},
   "source": [
    "## Checking data types in DataFrame"
   ]
  },
  {
   "cell_type": "code",
   "execution_count": 3,
   "id": "562e9659",
   "metadata": {},
   "outputs": [
    {
     "data": {
      "text/plain": [
       "Passengerid      int64\n",
       "Age            float64\n",
       "Fare           float64\n",
       "Sex              int64\n",
       "sibsp            int64\n",
       "zero             int64\n",
       "zero.1           int64\n",
       "zero.2           int64\n",
       "zero.3           int64\n",
       "zero.4           int64\n",
       "zero.5           int64\n",
       "zero.6           int64\n",
       "Parch            int64\n",
       "zero.7           int64\n",
       "zero.8           int64\n",
       "zero.9           int64\n",
       "zero.10          int64\n",
       "zero.11          int64\n",
       "zero.12          int64\n",
       "zero.13          int64\n",
       "zero.14          int64\n",
       "Pclass           int64\n",
       "zero.15          int64\n",
       "zero.16          int64\n",
       "Embarked       float64\n",
       "zero.17          int64\n",
       "zero.18          int64\n",
       "2urvived         int64\n",
       "dtype: object"
      ]
     },
     "execution_count": 3,
     "metadata": {},
     "output_type": "execute_result"
    }
   ],
   "source": [
    "df.dtypes"
   ]
  },
  {
   "cell_type": "markdown",
   "id": "d1f20b8f",
   "metadata": {},
   "source": [
    "## Dropping unwanted columns"
   ]
  },
  {
   "cell_type": "code",
   "execution_count": 4,
   "id": "b4f73706",
   "metadata": {},
   "outputs": [
    {
     "data": {
      "text/html": [
       "<div>\n",
       "<style scoped>\n",
       "    .dataframe tbody tr th:only-of-type {\n",
       "        vertical-align: middle;\n",
       "    }\n",
       "\n",
       "    .dataframe tbody tr th {\n",
       "        vertical-align: top;\n",
       "    }\n",
       "\n",
       "    .dataframe thead th {\n",
       "        text-align: right;\n",
       "    }\n",
       "</style>\n",
       "<table border=\"1\" class=\"dataframe\">\n",
       "  <thead>\n",
       "    <tr style=\"text-align: right;\">\n",
       "      <th></th>\n",
       "      <th>Passengerid</th>\n",
       "      <th>Age</th>\n",
       "      <th>Fare</th>\n",
       "      <th>Sex</th>\n",
       "      <th>sibsp</th>\n",
       "      <th>Parch</th>\n",
       "      <th>Pclass</th>\n",
       "      <th>Embarked</th>\n",
       "      <th>2urvived</th>\n",
       "    </tr>\n",
       "  </thead>\n",
       "  <tbody>\n",
       "    <tr>\n",
       "      <th>0</th>\n",
       "      <td>1</td>\n",
       "      <td>22.0</td>\n",
       "      <td>7.2500</td>\n",
       "      <td>0</td>\n",
       "      <td>1</td>\n",
       "      <td>0</td>\n",
       "      <td>3</td>\n",
       "      <td>2.0</td>\n",
       "      <td>0</td>\n",
       "    </tr>\n",
       "    <tr>\n",
       "      <th>1</th>\n",
       "      <td>2</td>\n",
       "      <td>38.0</td>\n",
       "      <td>71.2833</td>\n",
       "      <td>1</td>\n",
       "      <td>1</td>\n",
       "      <td>0</td>\n",
       "      <td>1</td>\n",
       "      <td>0.0</td>\n",
       "      <td>1</td>\n",
       "    </tr>\n",
       "    <tr>\n",
       "      <th>2</th>\n",
       "      <td>3</td>\n",
       "      <td>26.0</td>\n",
       "      <td>7.9250</td>\n",
       "      <td>1</td>\n",
       "      <td>0</td>\n",
       "      <td>0</td>\n",
       "      <td>3</td>\n",
       "      <td>2.0</td>\n",
       "      <td>1</td>\n",
       "    </tr>\n",
       "    <tr>\n",
       "      <th>3</th>\n",
       "      <td>4</td>\n",
       "      <td>35.0</td>\n",
       "      <td>53.1000</td>\n",
       "      <td>1</td>\n",
       "      <td>1</td>\n",
       "      <td>0</td>\n",
       "      <td>1</td>\n",
       "      <td>2.0</td>\n",
       "      <td>1</td>\n",
       "    </tr>\n",
       "    <tr>\n",
       "      <th>4</th>\n",
       "      <td>5</td>\n",
       "      <td>35.0</td>\n",
       "      <td>8.0500</td>\n",
       "      <td>0</td>\n",
       "      <td>0</td>\n",
       "      <td>0</td>\n",
       "      <td>3</td>\n",
       "      <td>2.0</td>\n",
       "      <td>0</td>\n",
       "    </tr>\n",
       "  </tbody>\n",
       "</table>\n",
       "</div>"
      ],
      "text/plain": [
       "   Passengerid   Age     Fare  Sex  sibsp  Parch  Pclass  Embarked  2urvived\n",
       "0            1  22.0   7.2500    0      1      0       3       2.0         0\n",
       "1            2  38.0  71.2833    1      1      0       1       0.0         1\n",
       "2            3  26.0   7.9250    1      0      0       3       2.0         1\n",
       "3            4  35.0  53.1000    1      1      0       1       2.0         1\n",
       "4            5  35.0   8.0500    0      0      0       3       2.0         0"
      ]
     },
     "execution_count": 4,
     "metadata": {},
     "output_type": "execute_result"
    }
   ],
   "source": [
    "df= df.drop([\"zero\",\"zero.1\",\"zero.2\",\"zero.3\",\"zero.4\",\"zero.5\",\"zero.6\",\"zero.7\",\"zero.8\",\"zero.9\",\"zero.10\",\"zero.11\",\"zero.12\",\"zero.13\",\"zero.14\",\"zero.15\",\"zero.16\",\"zero.17\",\"zero.18\"], axis=1)\n",
    "df.head(5)"
   ]
  },
  {
   "cell_type": "markdown",
   "id": "857e427c",
   "metadata": {},
   "source": [
    "## Renaming Columns"
   ]
  },
  {
   "cell_type": "code",
   "execution_count": 5,
   "id": "445d7100",
   "metadata": {},
   "outputs": [
    {
     "data": {
      "text/html": [
       "<div>\n",
       "<style scoped>\n",
       "    .dataframe tbody tr th:only-of-type {\n",
       "        vertical-align: middle;\n",
       "    }\n",
       "\n",
       "    .dataframe tbody tr th {\n",
       "        vertical-align: top;\n",
       "    }\n",
       "\n",
       "    .dataframe thead th {\n",
       "        text-align: right;\n",
       "    }\n",
       "</style>\n",
       "<table border=\"1\" class=\"dataframe\">\n",
       "  <thead>\n",
       "    <tr style=\"text-align: right;\">\n",
       "      <th></th>\n",
       "      <th>Passengerid</th>\n",
       "      <th>Age</th>\n",
       "      <th>Fare</th>\n",
       "      <th>Sex</th>\n",
       "      <th>sibsp</th>\n",
       "      <th>Parch</th>\n",
       "      <th>Pclass</th>\n",
       "      <th>Embarked</th>\n",
       "      <th>Survived</th>\n",
       "    </tr>\n",
       "  </thead>\n",
       "  <tbody>\n",
       "    <tr>\n",
       "      <th>0</th>\n",
       "      <td>1</td>\n",
       "      <td>22.0</td>\n",
       "      <td>7.2500</td>\n",
       "      <td>0</td>\n",
       "      <td>1</td>\n",
       "      <td>0</td>\n",
       "      <td>3</td>\n",
       "      <td>2.0</td>\n",
       "      <td>0</td>\n",
       "    </tr>\n",
       "    <tr>\n",
       "      <th>1</th>\n",
       "      <td>2</td>\n",
       "      <td>38.0</td>\n",
       "      <td>71.2833</td>\n",
       "      <td>1</td>\n",
       "      <td>1</td>\n",
       "      <td>0</td>\n",
       "      <td>1</td>\n",
       "      <td>0.0</td>\n",
       "      <td>1</td>\n",
       "    </tr>\n",
       "    <tr>\n",
       "      <th>2</th>\n",
       "      <td>3</td>\n",
       "      <td>26.0</td>\n",
       "      <td>7.9250</td>\n",
       "      <td>1</td>\n",
       "      <td>0</td>\n",
       "      <td>0</td>\n",
       "      <td>3</td>\n",
       "      <td>2.0</td>\n",
       "      <td>1</td>\n",
       "    </tr>\n",
       "    <tr>\n",
       "      <th>3</th>\n",
       "      <td>4</td>\n",
       "      <td>35.0</td>\n",
       "      <td>53.1000</td>\n",
       "      <td>1</td>\n",
       "      <td>1</td>\n",
       "      <td>0</td>\n",
       "      <td>1</td>\n",
       "      <td>2.0</td>\n",
       "      <td>1</td>\n",
       "    </tr>\n",
       "    <tr>\n",
       "      <th>4</th>\n",
       "      <td>5</td>\n",
       "      <td>35.0</td>\n",
       "      <td>8.0500</td>\n",
       "      <td>0</td>\n",
       "      <td>0</td>\n",
       "      <td>0</td>\n",
       "      <td>3</td>\n",
       "      <td>2.0</td>\n",
       "      <td>0</td>\n",
       "    </tr>\n",
       "  </tbody>\n",
       "</table>\n",
       "</div>"
      ],
      "text/plain": [
       "   Passengerid   Age     Fare  Sex  sibsp  Parch  Pclass  Embarked  Survived\n",
       "0            1  22.0   7.2500    0      1      0       3       2.0         0\n",
       "1            2  38.0  71.2833    1      1      0       1       0.0         1\n",
       "2            3  26.0   7.9250    1      0      0       3       2.0         1\n",
       "3            4  35.0  53.1000    1      1      0       1       2.0         1\n",
       "4            5  35.0   8.0500    0      0      0       3       2.0         0"
      ]
     },
     "execution_count": 5,
     "metadata": {},
     "output_type": "execute_result"
    }
   ],
   "source": [
    "df= df.rename(columns={\"2urvived\":\"Survived\"})\n",
    "df.head(5)"
   ]
  },
  {
   "cell_type": "markdown",
   "id": "73661323",
   "metadata": {},
   "source": [
    "Abbrevations used:\n",
    "1.sibsp- Number of Siblings/Spouses Aboard\n",
    "2.Parch - Number of Parents/Children Aboard.\n",
    "3.Pclass- Passenger class\n",
    "4.Embarked- Where the traveler mounted from"
   ]
  },
  {
   "cell_type": "markdown",
   "id": "9155cdf0",
   "metadata": {},
   "source": [
    "## Checking Rows and Columns of DataFrame"
   ]
  },
  {
   "cell_type": "code",
   "execution_count": 6,
   "id": "79cca24e",
   "metadata": {},
   "outputs": [
    {
     "data": {
      "text/plain": [
       "(1309, 9)"
      ]
     },
     "execution_count": 6,
     "metadata": {},
     "output_type": "execute_result"
    }
   ],
   "source": [
    "df.shape"
   ]
  },
  {
   "cell_type": "markdown",
   "id": "ba44f8a5",
   "metadata": {},
   "source": [
    "## Checking for Duplicate rows in the DataFrame"
   ]
  },
  {
   "cell_type": "code",
   "execution_count": 7,
   "id": "8a7e6ef9",
   "metadata": {},
   "outputs": [
    {
     "name": "stdout",
     "output_type": "stream",
     "text": [
      "Number of duplicate rows is Empty DataFrame\n",
      "Columns: [Passengerid, Age, Fare, Sex, sibsp, Parch, Pclass, Embarked, Survived]\n",
      "Index: []\n"
     ]
    }
   ],
   "source": [
    "df_duplicates = df[df.duplicated()]\n",
    "print(\"Number of duplicate rows is\" , df_duplicates)"
   ]
  },
  {
   "cell_type": "code",
   "execution_count": 8,
   "id": "95ec3dd2",
   "metadata": {},
   "outputs": [
    {
     "data": {
      "text/plain": [
       "Passengerid    1309\n",
       "Age            1309\n",
       "Fare           1309\n",
       "Sex            1309\n",
       "sibsp          1309\n",
       "Parch          1309\n",
       "Pclass         1309\n",
       "Embarked       1307\n",
       "Survived       1309\n",
       "dtype: int64"
      ]
     },
     "execution_count": 8,
     "metadata": {},
     "output_type": "execute_result"
    }
   ],
   "source": [
    "df.count()"
   ]
  },
  {
   "cell_type": "markdown",
   "id": "820ef87e",
   "metadata": {},
   "source": [
    "## Dropping duplicate rows"
   ]
  },
  {
   "cell_type": "code",
   "execution_count": 9,
   "id": "5c8a78e2",
   "metadata": {},
   "outputs": [],
   "source": [
    "df = df.drop_duplicates()"
   ]
  },
  {
   "cell_type": "code",
   "execution_count": 10,
   "id": "96060c75",
   "metadata": {},
   "outputs": [
    {
     "data": {
      "text/plain": [
       "Passengerid    1309\n",
       "Age            1309\n",
       "Fare           1309\n",
       "Sex            1309\n",
       "sibsp          1309\n",
       "Parch          1309\n",
       "Pclass         1309\n",
       "Embarked       1307\n",
       "Survived       1309\n",
       "dtype: int64"
      ]
     },
     "execution_count": 10,
     "metadata": {},
     "output_type": "execute_result"
    }
   ],
   "source": [
    "df.count()"
   ]
  },
  {
   "cell_type": "markdown",
   "id": "a7d6271f",
   "metadata": {},
   "source": [
    "## Dropping null rows"
   ]
  },
  {
   "cell_type": "code",
   "execution_count": 11,
   "id": "283b35f3",
   "metadata": {},
   "outputs": [],
   "source": [
    "df = df.dropna()"
   ]
  },
  {
   "cell_type": "code",
   "execution_count": 12,
   "id": "92bee44b",
   "metadata": {},
   "outputs": [
    {
     "data": {
      "text/plain": [
       "(1307, 9)"
      ]
     },
     "execution_count": 12,
     "metadata": {},
     "output_type": "execute_result"
    }
   ],
   "source": [
    "df.shape"
   ]
  },
  {
   "cell_type": "code",
   "execution_count": 13,
   "id": "92d4476f",
   "metadata": {},
   "outputs": [
    {
     "data": {
      "text/plain": [
       "Passengerid    1307\n",
       "Age            1307\n",
       "Fare           1307\n",
       "Sex            1307\n",
       "sibsp          1307\n",
       "Parch          1307\n",
       "Pclass         1307\n",
       "Embarked       1307\n",
       "Survived       1307\n",
       "dtype: int64"
      ]
     },
     "execution_count": 13,
     "metadata": {},
     "output_type": "execute_result"
    }
   ],
   "source": [
    "df.count()"
   ]
  },
  {
   "cell_type": "markdown",
   "id": "b677719f",
   "metadata": {},
   "source": [
    "## Checking Correlation between columns"
   ]
  },
  {
   "cell_type": "code",
   "execution_count": 14,
   "id": "3894c4b0",
   "metadata": {},
   "outputs": [],
   "source": [
    "corr = df.corr()"
   ]
  },
  {
   "cell_type": "code",
   "execution_count": 15,
   "id": "f3d0ac47",
   "metadata": {},
   "outputs": [
    {
     "data": {
      "text/html": [
       "<div>\n",
       "<style scoped>\n",
       "    .dataframe tbody tr th:only-of-type {\n",
       "        vertical-align: middle;\n",
       "    }\n",
       "\n",
       "    .dataframe tbody tr th {\n",
       "        vertical-align: top;\n",
       "    }\n",
       "\n",
       "    .dataframe thead th {\n",
       "        text-align: right;\n",
       "    }\n",
       "</style>\n",
       "<table border=\"1\" class=\"dataframe\">\n",
       "  <thead>\n",
       "    <tr style=\"text-align: right;\">\n",
       "      <th></th>\n",
       "      <th>Passengerid</th>\n",
       "      <th>Age</th>\n",
       "      <th>Fare</th>\n",
       "      <th>Sex</th>\n",
       "      <th>sibsp</th>\n",
       "      <th>Parch</th>\n",
       "      <th>Pclass</th>\n",
       "      <th>Embarked</th>\n",
       "      <th>Survived</th>\n",
       "    </tr>\n",
       "  </thead>\n",
       "  <tbody>\n",
       "    <tr>\n",
       "      <th>Passengerid</th>\n",
       "      <td>1.000000</td>\n",
       "      <td>0.025792</td>\n",
       "      <td>0.031945</td>\n",
       "      <td>-0.012297</td>\n",
       "      <td>-0.055696</td>\n",
       "      <td>0.008576</td>\n",
       "      <td>-0.039776</td>\n",
       "      <td>-0.051518</td>\n",
       "      <td>-0.331125</td>\n",
       "    </tr>\n",
       "    <tr>\n",
       "      <th>Age</th>\n",
       "      <td>0.025792</td>\n",
       "      <td>1.000000</td>\n",
       "      <td>0.176554</td>\n",
       "      <td>-0.057161</td>\n",
       "      <td>-0.189332</td>\n",
       "      <td>-0.125112</td>\n",
       "      <td>-0.375811</td>\n",
       "      <td>-0.065125</td>\n",
       "      <td>-0.060236</td>\n",
       "    </tr>\n",
       "    <tr>\n",
       "      <th>Fare</th>\n",
       "      <td>0.031945</td>\n",
       "      <td>0.176554</td>\n",
       "      <td>1.000000</td>\n",
       "      <td>0.184192</td>\n",
       "      <td>0.161141</td>\n",
       "      <td>0.222422</td>\n",
       "      <td>-0.557915</td>\n",
       "      <td>-0.239212</td>\n",
       "      <td>0.171942</td>\n",
       "    </tr>\n",
       "    <tr>\n",
       "      <th>Sex</th>\n",
       "      <td>-0.012297</td>\n",
       "      <td>-0.057161</td>\n",
       "      <td>0.184192</td>\n",
       "      <td>1.000000</td>\n",
       "      <td>0.110768</td>\n",
       "      <td>0.214371</td>\n",
       "      <td>-0.121826</td>\n",
       "      <td>-0.099408</td>\n",
       "      <td>0.401985</td>\n",
       "    </tr>\n",
       "    <tr>\n",
       "      <th>sibsp</th>\n",
       "      <td>-0.055696</td>\n",
       "      <td>-0.189332</td>\n",
       "      <td>0.161141</td>\n",
       "      <td>0.110768</td>\n",
       "      <td>1.000000</td>\n",
       "      <td>0.373383</td>\n",
       "      <td>0.059819</td>\n",
       "      <td>0.066055</td>\n",
       "      <td>-0.013174</td>\n",
       "    </tr>\n",
       "    <tr>\n",
       "      <th>Parch</th>\n",
       "      <td>0.008576</td>\n",
       "      <td>-0.125112</td>\n",
       "      <td>0.222422</td>\n",
       "      <td>0.214371</td>\n",
       "      <td>0.373383</td>\n",
       "      <td>1.000000</td>\n",
       "      <td>0.017304</td>\n",
       "      <td>0.045216</td>\n",
       "      <td>0.056183</td>\n",
       "    </tr>\n",
       "    <tr>\n",
       "      <th>Pclass</th>\n",
       "      <td>-0.039776</td>\n",
       "      <td>-0.375811</td>\n",
       "      <td>-0.557915</td>\n",
       "      <td>-0.121826</td>\n",
       "      <td>0.059819</td>\n",
       "      <td>0.017304</td>\n",
       "      <td>1.000000</td>\n",
       "      <td>0.187349</td>\n",
       "      <td>-0.241672</td>\n",
       "    </tr>\n",
       "    <tr>\n",
       "      <th>Embarked</th>\n",
       "      <td>-0.051518</td>\n",
       "      <td>-0.065125</td>\n",
       "      <td>-0.239212</td>\n",
       "      <td>-0.099408</td>\n",
       "      <td>0.066055</td>\n",
       "      <td>0.045216</td>\n",
       "      <td>0.187349</td>\n",
       "      <td>1.000000</td>\n",
       "      <td>-0.093225</td>\n",
       "    </tr>\n",
       "    <tr>\n",
       "      <th>Survived</th>\n",
       "      <td>-0.331125</td>\n",
       "      <td>-0.060236</td>\n",
       "      <td>0.171942</td>\n",
       "      <td>0.401985</td>\n",
       "      <td>-0.013174</td>\n",
       "      <td>0.056183</td>\n",
       "      <td>-0.241672</td>\n",
       "      <td>-0.093225</td>\n",
       "      <td>1.000000</td>\n",
       "    </tr>\n",
       "  </tbody>\n",
       "</table>\n",
       "</div>"
      ],
      "text/plain": [
       "             Passengerid       Age      Fare       Sex     sibsp     Parch  \\\n",
       "Passengerid     1.000000  0.025792  0.031945 -0.012297 -0.055696  0.008576   \n",
       "Age             0.025792  1.000000  0.176554 -0.057161 -0.189332 -0.125112   \n",
       "Fare            0.031945  0.176554  1.000000  0.184192  0.161141  0.222422   \n",
       "Sex            -0.012297 -0.057161  0.184192  1.000000  0.110768  0.214371   \n",
       "sibsp          -0.055696 -0.189332  0.161141  0.110768  1.000000  0.373383   \n",
       "Parch           0.008576 -0.125112  0.222422  0.214371  0.373383  1.000000   \n",
       "Pclass         -0.039776 -0.375811 -0.557915 -0.121826  0.059819  0.017304   \n",
       "Embarked       -0.051518 -0.065125 -0.239212 -0.099408  0.066055  0.045216   \n",
       "Survived       -0.331125 -0.060236  0.171942  0.401985 -0.013174  0.056183   \n",
       "\n",
       "               Pclass  Embarked  Survived  \n",
       "Passengerid -0.039776 -0.051518 -0.331125  \n",
       "Age         -0.375811 -0.065125 -0.060236  \n",
       "Fare        -0.557915 -0.239212  0.171942  \n",
       "Sex         -0.121826 -0.099408  0.401985  \n",
       "sibsp        0.059819  0.066055 -0.013174  \n",
       "Parch        0.017304  0.045216  0.056183  \n",
       "Pclass       1.000000  0.187349 -0.241672  \n",
       "Embarked     0.187349  1.000000 -0.093225  \n",
       "Survived    -0.241672 -0.093225  1.000000  "
      ]
     },
     "execution_count": 15,
     "metadata": {},
     "output_type": "execute_result"
    }
   ],
   "source": [
    "corr"
   ]
  },
  {
   "cell_type": "markdown",
   "id": "f1cb3933",
   "metadata": {},
   "source": [
    "Observations:\n",
    "Correlation between all the columns is very bad."
   ]
  },
  {
   "cell_type": "code",
   "execution_count": 16,
   "id": "09023a0b",
   "metadata": {},
   "outputs": [
    {
     "data": {
      "text/plain": [
       "Survived\n",
       "0    967\n",
       "1    340\n",
       "Name: count, dtype: int64"
      ]
     },
     "execution_count": 16,
     "metadata": {},
     "output_type": "execute_result"
    }
   ],
   "source": [
    "df['Survived'].value_counts()"
   ]
  },
  {
   "cell_type": "code",
   "execution_count": 17,
   "id": "2188a693",
   "metadata": {},
   "outputs": [
    {
     "data": {
      "text/plain": [
       "Sex\n",
       "0    843\n",
       "1    464\n",
       "Name: count, dtype: int64"
      ]
     },
     "execution_count": 17,
     "metadata": {},
     "output_type": "execute_result"
    }
   ],
   "source": [
    "df['Sex'].value_counts()"
   ]
  },
  {
   "cell_type": "code",
   "execution_count": 18,
   "id": "b381aa59",
   "metadata": {},
   "outputs": [
    {
     "data": {
      "text/plain": [
       "Embarked\n",
       "2.0    914\n",
       "0.0    270\n",
       "1.0    123\n",
       "Name: count, dtype: int64"
      ]
     },
     "execution_count": 18,
     "metadata": {},
     "output_type": "execute_result"
    }
   ],
   "source": [
    "df['Embarked'].value_counts()"
   ]
  },
  {
   "cell_type": "markdown",
   "id": "c4c408fb",
   "metadata": {},
   "source": [
    "## Data Visualization"
   ]
  },
  {
   "cell_type": "code",
   "execution_count": 19,
   "id": "24ed83a2",
   "metadata": {},
   "outputs": [],
   "source": [
    "sns.set()"
   ]
  },
  {
   "cell_type": "code",
   "execution_count": 20,
   "id": "33cf58c5",
   "metadata": {},
   "outputs": [
    {
     "data": {
      "text/plain": [
       "<Axes: xlabel='Survived', ylabel='count'>"
      ]
     },
     "execution_count": 20,
     "metadata": {},
     "output_type": "execute_result"
    },
    {
     "data": {
      "image/png": "[encoded data removed]",
      "text/plain": [
       "<Figure size 640x480 with 1 Axes>"
      ]
     },
     "metadata": {},
     "output_type": "display_data"
    }
   ],
   "source": [
    "sns.countplot(x='Survived', data=df)"
   ]
  },
  {
   "cell_type": "code",
   "execution_count": 21,
   "id": "5ecc29ff",
   "metadata": {},
   "outputs": [
    {
     "data": {
      "text/plain": [
       "<Axes: xlabel='Sex', ylabel='count'>"
      ]
     },
     "execution_count": 21,
     "metadata": {},
     "output_type": "execute_result"
    },
    {
     "data": {
      "image/png": "[encoded data removed]",
      "text/plain": [
       "<Figure size 640x480 with 1 Axes>"
      ]
     },
     "metadata": {},
     "output_type": "display_data"
    }
   ],
   "source": [
    "sns.countplot(x='Sex', hue='Survived', data=df)"
   ]
  },
  {
   "cell_type": "code",
   "execution_count": 22,
   "id": "3e94cd1b",
   "metadata": {},
   "outputs": [
    {
     "data": {
      "text/plain": [
       "<Axes: xlabel='Pclass', ylabel='count'>"
      ]
     },
     "execution_count": 22,
     "metadata": {},
     "output_type": "execute_result"
    },
    {
     "data": {
      "image/png": "[encoded data removed]",
      "text/plain": [
       "<Figure size 640x480 with 1 Axes>"
      ]
     },
     "metadata": {},
     "output_type": "display_data"
    }
   ],
   "source": [
    "sns.countplot(x='Pclass',hue='Survived',data=df)"
   ]
  },
  {
   "cell_type": "code",
   "execution_count": 23,
   "id": "0240a291",
   "metadata": {},
   "outputs": [
    {
     "data": {
      "text/plain": [
       "<Axes: xlabel='Age', ylabel='Survived'>"
      ]
     },
     "execution_count": 23,
     "metadata": {},
     "output_type": "execute_result"
    },
    {
     "data": {
      "image/png": "[encoded data removed]",
      "text/plain": [
       "<Figure size 640x480 with 1 Axes>"
      ]
     },
     "metadata": {},
     "output_type": "display_data"
    }
   ],
   "source": [
    "sns.lineplot(x='Age', y='Survived',data=df)"
   ]
  },
  {
   "cell_type": "code",
   "execution_count": 21,
   "id": "35dd37e8",
   "metadata": {},
   "outputs": [
    {
     "data": {
      "image/png": "[encoded data removed]",
      "text/plain": [
       "<Figure size 640x480 with 1 Axes>"
      ]
     },
     "metadata": {},
     "output_type": "display_data"
    }
   ],
   "source": [
    "sns.scatterplot(x='Age',y='Survived',data=df)\n",
    "plt.show()"
   ]
  },
  {
   "cell_type": "code",
   "execution_count": 24,
   "id": "b3b3e939",
   "metadata": {},
   "outputs": [
    {
     "data": {
      "image/png": "[encoded data removed]",
      "text/plain": [
       "<Figure size 640x480 with 1 Axes>"
      ]
     },
     "metadata": {},
     "output_type": "display_data"
    }
   ],
   "source": [
    "sns.barplot(x='Age',y='Survived',data=df)\n",
    "plt.show()"
   ]
  },
  {
   "cell_type": "code",
   "execution_count": 25,
   "id": "b7a9f326",
   "metadata": {},
   "outputs": [
    {
     "data": {
      "text/html": [
       "<div>\n",
       "<style scoped>\n",
       "    .dataframe tbody tr th:only-of-type {\n",
       "        vertical-align: middle;\n",
       "    }\n",
       "\n",
       "    .dataframe tbody tr th {\n",
       "        vertical-align: top;\n",
       "    }\n",
       "\n",
       "    .dataframe thead th {\n",
       "        text-align: right;\n",
       "    }\n",
       "</style>\n",
       "<table border=\"1\" class=\"dataframe\">\n",
       "  <thead>\n",
       "    <tr style=\"text-align: right;\">\n",
       "      <th></th>\n",
       "      <th>Passengerid</th>\n",
       "      <th>Age</th>\n",
       "      <th>Fare</th>\n",
       "      <th>Sex</th>\n",
       "      <th>sibsp</th>\n",
       "      <th>Parch</th>\n",
       "      <th>Pclass</th>\n",
       "      <th>Embarked</th>\n",
       "      <th>Survived</th>\n",
       "    </tr>\n",
       "  </thead>\n",
       "  <tbody>\n",
       "    <tr>\n",
       "      <th>count</th>\n",
       "      <td>1307.000000</td>\n",
       "      <td>1307.000000</td>\n",
       "      <td>1307.000000</td>\n",
       "      <td>1307.000000</td>\n",
       "      <td>1307.000000</td>\n",
       "      <td>1307.000000</td>\n",
       "      <td>1307.000000</td>\n",
       "      <td>1307.000000</td>\n",
       "      <td>1307.000000</td>\n",
       "    </tr>\n",
       "    <tr>\n",
       "      <th>mean</th>\n",
       "      <td>655.319816</td>\n",
       "      <td>29.471821</td>\n",
       "      <td>33.209595</td>\n",
       "      <td>0.355011</td>\n",
       "      <td>0.499617</td>\n",
       "      <td>0.385616</td>\n",
       "      <td>2.296863</td>\n",
       "      <td>1.492731</td>\n",
       "      <td>0.260138</td>\n",
       "    </tr>\n",
       "    <tr>\n",
       "      <th>std</th>\n",
       "      <td>377.922205</td>\n",
       "      <td>12.881592</td>\n",
       "      <td>51.748768</td>\n",
       "      <td>0.478700</td>\n",
       "      <td>1.042273</td>\n",
       "      <td>0.866092</td>\n",
       "      <td>0.836942</td>\n",
       "      <td>0.814626</td>\n",
       "      <td>0.438877</td>\n",
       "    </tr>\n",
       "    <tr>\n",
       "      <th>min</th>\n",
       "      <td>1.000000</td>\n",
       "      <td>0.170000</td>\n",
       "      <td>0.000000</td>\n",
       "      <td>0.000000</td>\n",
       "      <td>0.000000</td>\n",
       "      <td>0.000000</td>\n",
       "      <td>1.000000</td>\n",
       "      <td>0.000000</td>\n",
       "      <td>0.000000</td>\n",
       "    </tr>\n",
       "    <tr>\n",
       "      <th>25%</th>\n",
       "      <td>328.500000</td>\n",
       "      <td>22.000000</td>\n",
       "      <td>7.895800</td>\n",
       "      <td>0.000000</td>\n",
       "      <td>0.000000</td>\n",
       "      <td>0.000000</td>\n",
       "      <td>2.000000</td>\n",
       "      <td>1.000000</td>\n",
       "      <td>0.000000</td>\n",
       "    </tr>\n",
       "    <tr>\n",
       "      <th>50%</th>\n",
       "      <td>655.000000</td>\n",
       "      <td>28.000000</td>\n",
       "      <td>14.454200</td>\n",
       "      <td>0.000000</td>\n",
       "      <td>0.000000</td>\n",
       "      <td>0.000000</td>\n",
       "      <td>3.000000</td>\n",
       "      <td>2.000000</td>\n",
       "      <td>0.000000</td>\n",
       "    </tr>\n",
       "    <tr>\n",
       "      <th>75%</th>\n",
       "      <td>982.500000</td>\n",
       "      <td>35.000000</td>\n",
       "      <td>31.275000</td>\n",
       "      <td>1.000000</td>\n",
       "      <td>1.000000</td>\n",
       "      <td>0.000000</td>\n",
       "      <td>3.000000</td>\n",
       "      <td>2.000000</td>\n",
       "      <td>1.000000</td>\n",
       "    </tr>\n",
       "    <tr>\n",
       "      <th>max</th>\n",
       "      <td>1309.000000</td>\n",
       "      <td>80.000000</td>\n",
       "      <td>512.329200</td>\n",
       "      <td>1.000000</td>\n",
       "      <td>8.000000</td>\n",
       "      <td>9.000000</td>\n",
       "      <td>3.000000</td>\n",
       "      <td>2.000000</td>\n",
       "      <td>1.000000</td>\n",
       "    </tr>\n",
       "  </tbody>\n",
       "</table>\n",
       "</div>"
      ],
      "text/plain": [
       "       Passengerid          Age         Fare          Sex        sibsp  \\\n",
       "count  1307.000000  1307.000000  1307.000000  1307.000000  1307.000000   \n",
       "mean    655.319816    29.471821    33.209595     0.355011     0.499617   \n",
       "std     377.922205    12.881592    51.748768     0.478700     1.042273   \n",
       "min       1.000000     0.170000     0.000000     0.000000     0.000000   \n",
       "25%     328.500000    22.000000     7.895800     0.000000     0.000000   \n",
       "50%     655.000000    28.000000    14.454200     0.000000     0.000000   \n",
       "75%     982.500000    35.000000    31.275000     1.000000     1.000000   \n",
       "max    1309.000000    80.000000   512.329200     1.000000     8.000000   \n",
       "\n",
       "             Parch       Pclass     Embarked     Survived  \n",
       "count  1307.000000  1307.000000  1307.000000  1307.000000  \n",
       "mean      0.385616     2.296863     1.492731     0.260138  \n",
       "std       0.866092     0.836942     0.814626     0.438877  \n",
       "min       0.000000     1.000000     0.000000     0.000000  \n",
       "25%       0.000000     2.000000     1.000000     0.000000  \n",
       "50%       0.000000     3.000000     2.000000     0.000000  \n",
       "75%       0.000000     3.000000     2.000000     1.000000  \n",
       "max       9.000000     3.000000     2.000000     1.000000  "
      ]
     },
     "execution_count": 25,
     "metadata": {},
     "output_type": "execute_result"
    }
   ],
   "source": [
    "df.describe()"
   ]
  }
 ],
 "metadata": {
  "kernelspec": {
   "display_name": "Python 3 (ipykernel)",
   "language": "python",
   "name": "python3"
  },
  "language_info": {
   "codemirror_mode": {
    "name": "ipython",
    "version": 3
   },
   "file_extension": ".py",
   "mimetype": "text/x-python",
   "name": "python",
   "nbconvert_exporter": "python",
   "pygments_lexer": "ipython3",
   "version": "3.11.1"
  }
 },
 "nbformat": 4,
 "nbformat_minor": 5
}
